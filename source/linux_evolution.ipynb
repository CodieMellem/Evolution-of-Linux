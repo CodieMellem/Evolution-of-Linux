{
 "cells": [
  {
   "cell_type": "markdown",
   "metadata": {},
   "source": [
    "# EVOLUTION OF LINUX"
   ]
  },
  {
   "cell_type": "markdown",
   "metadata": {
    "dc": {
     "key": "4"
    },
    "deletable": false,
    "editable": false,
    "run_control": {
     "frozen": true
    },
    "tags": [
     "context"
    ]
   },
   "source": [
    "## 1. Introduction\n",
    "<p><a href=\"https://commons.wikimedia.org/wiki/File:Tux.svg\">\n",
    "<img style=\"float: right;margin:5px 20px 5px 1px\" width=\"150px\" src=\"https://assets.datacamp.com/production/project_111/img/tux.png\" alt=\"Tux - the Linux mascot\">\n",
    "</a></p>\n",
    "<p>Version control repositories like CVS, Subversion or Git can be a real gold mine for software developers. They contain every change to the source code including the date (the \"when\"), the responsible developer (the \"who\"), as well as a little message that describes the intention (the \"what\") of a change.</p>\n",
    "<p>In this notebook, we will analyze the evolution of a very famous open-source project &ndash; the Linux kernel. The Linux kernel is the heart of some Linux distributions like Debian, Ubuntu or CentOS. Our dataset at hand contains the history of kernel development of almost 13 years (early 2005 - late 2017). We get some insights into the work of the development efforts by </p>\n",
    "<ul>\n",
    "<li>identifying the TOP 10 contributors and</li>\n",
    "<li>visualizing the commits over the years.</li>\n",
    "</ul>"
   ]
  },
  {
   "cell_type": "code",
   "execution_count": 1,
   "metadata": {
    "dc": {
     "key": "4"
    },
    "tags": [
     "sample_code"
    ]
   },
   "outputs": [
    {
     "data": {
      "text/html": [
       "<div>\n",
       "<style scoped>\n",
       "    .dataframe tbody tr th:only-of-type {\n",
       "        vertical-align: middle;\n",
       "    }\n",
       "\n",
       "    .dataframe tbody tr th {\n",
       "        vertical-align: top;\n",
       "    }\n",
       "\n",
       "    .dataframe thead th {\n",
       "        text-align: right;\n",
       "    }\n",
       "</style>\n",
       "<table border=\"1\" class=\"dataframe\">\n",
       "  <thead>\n",
       "    <tr style=\"text-align: right;\">\n",
       "      <th></th>\n",
       "      <th>1502382966</th>\n",
       "      <th>Linus Torvalds</th>\n",
       "    </tr>\n",
       "  </thead>\n",
       "  <tbody>\n",
       "    <tr>\n",
       "      <th>0</th>\n",
       "      <td>1501368308</td>\n",
       "      <td>Max Gurtovoy</td>\n",
       "    </tr>\n",
       "    <tr>\n",
       "      <th>1</th>\n",
       "      <td>1501625560</td>\n",
       "      <td>James Smart</td>\n",
       "    </tr>\n",
       "    <tr>\n",
       "      <th>2</th>\n",
       "      <td>1501625559</td>\n",
       "      <td>James Smart</td>\n",
       "    </tr>\n",
       "    <tr>\n",
       "      <th>3</th>\n",
       "      <td>1500568442</td>\n",
       "      <td>Martin Wilck</td>\n",
       "    </tr>\n",
       "    <tr>\n",
       "      <th>4</th>\n",
       "      <td>1502273719</td>\n",
       "      <td>Xin Long</td>\n",
       "    </tr>\n",
       "    <tr>\n",
       "      <th>5</th>\n",
       "      <td>1502278684</td>\n",
       "      <td>Nikolay Borisov</td>\n",
       "    </tr>\n",
       "    <tr>\n",
       "      <th>6</th>\n",
       "      <td>1502238384</td>\n",
       "      <td>Girish Moodalbail</td>\n",
       "    </tr>\n",
       "    <tr>\n",
       "      <th>7</th>\n",
       "      <td>1502228709</td>\n",
       "      <td>Florian Fainelli</td>\n",
       "    </tr>\n",
       "    <tr>\n",
       "      <th>8</th>\n",
       "      <td>1502223836</td>\n",
       "      <td>Jon Paul Maloy</td>\n",
       "    </tr>\n",
       "  </tbody>\n",
       "</table>\n",
       "</div>"
      ],
      "text/plain": [
       "   1502382966     Linus Torvalds\n",
       "0  1501368308       Max Gurtovoy\n",
       "1  1501625560        James Smart\n",
       "2  1501625559        James Smart\n",
       "3  1500568442       Martin Wilck\n",
       "4  1502273719           Xin Long\n",
       "5  1502278684    Nikolay Borisov\n",
       "6  1502238384  Girish Moodalbail\n",
       "7  1502228709   Florian Fainelli\n",
       "8  1502223836     Jon Paul Maloy"
      ]
     },
     "execution_count": 1,
     "metadata": {},
     "output_type": "execute_result"
    }
   ],
   "source": [
    "import pandas as pd\n",
    "from matplotlib import pyplot as plt\n",
    "%matplotlib inline\n",
    "git_log_excerpt = pd.read_csv(\"../datasets/git_log_excerpt.csv\", sep='#')\n",
    "git_log_excerpt"
   ]
  },
  {
   "cell_type": "markdown",
   "metadata": {
    "dc": {
     "key": "11"
    },
    "deletable": false,
    "editable": false,
    "run_control": {
     "frozen": true
    },
    "tags": [
     "context"
    ]
   },
   "source": [
    "## 2. Reading in the dataset\n",
    "<p>The dataset was created by using the command <code>git log --encoding=latin-1 --pretty=\"%at#%aN\"</code> in late 2017. The <code>latin-1</code> encoded text output was saved in a header-less CSV file. In this file, each row is a commit entry with the following information:</p>\n",
    "<ul>\n",
    "<li><code>timestamp</code>: the time of the commit as a UNIX timestamp in seconds since 1970-01-01 00:00:00 (Git log placeholder \"<code>%at</code>\")</li>\n",
    "<li><code>author</code>: the name of the author that performed the commit (Git log placeholder \"<code>%aN</code>\")</li>\n",
    "</ul>\n",
    "<p>The columns are separated by the number sign <code>#</code>. The complete dataset is in the <code>datasets/</code> directory. It is a <code>gz</code>-compressed csv file named <code>git_log.gz</code>.</p>"
   ]
  },
  {
   "cell_type": "code",
   "execution_count": 2,
   "metadata": {
    "dc": {
     "key": "11"
    },
    "tags": [
     "sample_code"
    ]
   },
   "outputs": [
    {
     "data": {
      "text/html": [
       "<div>\n",
       "<style scoped>\n",
       "    .dataframe tbody tr th:only-of-type {\n",
       "        vertical-align: middle;\n",
       "    }\n",
       "\n",
       "    .dataframe tbody tr th {\n",
       "        vertical-align: top;\n",
       "    }\n",
       "\n",
       "    .dataframe thead th {\n",
       "        text-align: right;\n",
       "    }\n",
       "</style>\n",
       "<table border=\"1\" class=\"dataframe\">\n",
       "  <thead>\n",
       "    <tr style=\"text-align: right;\">\n",
       "      <th></th>\n",
       "      <th>timestamp</th>\n",
       "      <th>author</th>\n",
       "    </tr>\n",
       "  </thead>\n",
       "  <tbody>\n",
       "    <tr>\n",
       "      <th>0</th>\n",
       "      <td>1502826583</td>\n",
       "      <td>Linus Torvalds</td>\n",
       "    </tr>\n",
       "    <tr>\n",
       "      <th>1</th>\n",
       "      <td>1501749089</td>\n",
       "      <td>Adrian Hunter</td>\n",
       "    </tr>\n",
       "    <tr>\n",
       "      <th>2</th>\n",
       "      <td>1501749088</td>\n",
       "      <td>Adrian Hunter</td>\n",
       "    </tr>\n",
       "    <tr>\n",
       "      <th>3</th>\n",
       "      <td>1501882480</td>\n",
       "      <td>Kees Cook</td>\n",
       "    </tr>\n",
       "    <tr>\n",
       "      <th>4</th>\n",
       "      <td>1497271395</td>\n",
       "      <td>Rob Clark</td>\n",
       "    </tr>\n",
       "  </tbody>\n",
       "</table>\n",
       "</div>"
      ],
      "text/plain": [
       "    timestamp          author\n",
       "0  1502826583  Linus Torvalds\n",
       "1  1501749089   Adrian Hunter\n",
       "2  1501749088   Adrian Hunter\n",
       "3  1501882480       Kees Cook\n",
       "4  1497271395       Rob Clark"
      ]
     },
     "execution_count": 2,
     "metadata": {},
     "output_type": "execute_result"
    }
   ],
   "source": [
    "git_log = pd.read_csv('../datasets/git_log.gz',\n",
    "                     sep='#',\n",
    "                     encoding='latin-1',\n",
    "                     header=None,\n",
    "                     names=['timestamp', 'author'])\n",
    "git_log.head()"
   ]
  },
  {
   "cell_type": "markdown",
   "metadata": {
    "dc": {
     "key": "18"
    },
    "deletable": false,
    "editable": false,
    "run_control": {
     "frozen": true
    },
    "tags": [
     "context"
    ]
   },
   "source": [
    "## 3. Getting an overview\n",
    "<p>The dataset contains the information about every single code contribution (a \"commit\") to the Linux kernel over the last 13 years. We'll first take a look at the number of authors and their commits to the repository.</p>"
   ]
  },
  {
   "cell_type": "code",
   "execution_count": 3,
   "metadata": {
    "dc": {
     "key": "18"
    },
    "tags": [
     "sample_code"
    ]
   },
   "outputs": [
    {
     "name": "stdout",
     "output_type": "stream",
     "text": [
      "17385 authors committed 699071 code changes.\n"
     ]
    }
   ],
   "source": [
    "number_of_commits = number_of_commits = len(git_log)\n",
    "\n",
    "number_of_authors = number_of_authors = len(git_log['author'].dropna().unique())\n",
    "\n",
    "print(\"%s authors committed %s code changes.\" % (number_of_authors, number_of_commits))"
   ]
  },
  {
   "cell_type": "markdown",
   "metadata": {
    "dc": {
     "key": "25"
    },
    "deletable": false,
    "editable": false,
    "run_control": {
     "frozen": true
    },
    "tags": [
     "context"
    ]
   },
   "source": [
    "## 4. Finding the TOP 10 contributors\n",
    "<p>There are some very important people that changed the Linux kernel very often. To see if there are any bottlenecks, we take a look at the TOP 10 authors with the most commits.</p>"
   ]
  },
  {
   "cell_type": "code",
   "execution_count": 4,
   "metadata": {
    "dc": {
     "key": "25"
    },
    "tags": [
     "sample_code"
    ]
   },
   "outputs": [
    {
     "data": {
      "text/plain": [
       "Linus Torvalds           23361\n",
       "David S. Miller           9106\n",
       "Mark Brown                6802\n",
       "Takashi Iwai              6209\n",
       "Al Viro                   6006\n",
       "H Hartley Sweeten         5938\n",
       "Ingo Molnar               5344\n",
       "Mauro Carvalho Chehab     5204\n",
       "Arnd Bergmann             4890\n",
       "Greg Kroah-Hartman        4580\n",
       "Name: author, dtype: int64"
      ]
     },
     "execution_count": 4,
     "metadata": {},
     "output_type": "execute_result"
    }
   ],
   "source": [
    "top_10_authors = git_log['author'].value_counts().head(10)\n",
    "top_10_authors"
   ]
  },
  {
   "cell_type": "markdown",
   "metadata": {
    "dc": {
     "key": "32"
    },
    "deletable": false,
    "editable": false,
    "run_control": {
     "frozen": true
    },
    "tags": [
     "context"
    ]
   },
   "source": [
    "## 5. Wrangling the data\n",
    "<p>For our analysis, we want to visualize the contributions over time. For this, we use the information in the <code>timestamp</code> column to create a time series-based column.</p>"
   ]
  },
  {
   "cell_type": "code",
   "execution_count": 5,
   "metadata": {
    "dc": {
     "key": "32"
    },
    "tags": [
     "sample_code"
    ]
   },
   "outputs": [
    {
     "data": {
      "text/plain": [
       "count                           699071\n",
       "mean     2012-07-08 20:15:47.860253440\n",
       "min                1970-01-01 00:00:01\n",
       "25%         2009-11-19 16:11:24.500000\n",
       "50%                2012-12-10 10:28:11\n",
       "75%         2015-04-30 16:21:33.500000\n",
       "max                2037-04-25 08:08:26\n",
       "Name: timestamp, dtype: object"
      ]
     },
     "execution_count": 5,
     "metadata": {},
     "output_type": "execute_result"
    }
   ],
   "source": [
    "git_log['timestamp'] = pd.to_datetime(git_log['timestamp'], unit=\"s\")\n",
    "git_log['timestamp'].describe(datetime_is_numeric=True)"
   ]
  },
  {
   "cell_type": "markdown",
   "metadata": {
    "dc": {
     "key": "39"
    },
    "deletable": false,
    "editable": false,
    "run_control": {
     "frozen": true
    },
    "tags": [
     "context"
    ]
   },
   "source": [
    "## 6. Treating wrong timestamps\n",
    "<p>As we can see from the results above, some contributors had their operating system's time incorrectly set when they committed to the repository. We'll clean up the <code>timestamp</code> column by dropping the rows with the incorrect timestamps.</p>"
   ]
  },
  {
   "cell_type": "code",
   "execution_count": 6,
   "metadata": {
    "dc": {
     "key": "39"
    },
    "tags": [
     "sample_code"
    ]
   },
   "outputs": [
    {
     "data": {
      "text/plain": [
       "count                           698569\n",
       "mean     2012-07-10 18:22:43.524342016\n",
       "min                2005-04-16 22:20:36\n",
       "25%                2009-11-22 10:29:44\n",
       "50%                2012-12-11 03:38:23\n",
       "75%                2015-05-01 13:58:19\n",
       "max                2017-10-03 12:57:00\n",
       "Name: timestamp, dtype: object"
      ]
     },
     "execution_count": 6,
     "metadata": {},
     "output_type": "execute_result"
    }
   ],
   "source": [
    "first_commit_timestamp = git_log.iloc[-1]['timestamp']\n",
    "last_commit_timestamp = pd.to_datetime('2018')\n",
    "\n",
    "corrected_log = git_log[\n",
    "    (git_log['timestamp'] >= first_commit_timestamp) &\n",
    "    (git_log['timestamp'] <= last_commit_timestamp)]\n",
    "\n",
    "corrected_log['timestamp'].describe(datetime_is_numeric=True)"
   ]
  },
  {
   "cell_type": "markdown",
   "metadata": {
    "dc": {
     "key": "46"
    },
    "deletable": false,
    "editable": false,
    "run_control": {
     "frozen": true
    },
    "tags": [
     "context"
    ]
   },
   "source": [
    "## 7. Grouping commits per year\n",
    "<p>To find out how the development activity has increased over time, we'll group the commits by year and count them up.</p>"
   ]
  },
  {
   "cell_type": "code",
   "execution_count": 7,
   "metadata": {
    "dc": {
     "key": "46"
    },
    "tags": [
     "sample_code"
    ]
   },
   "outputs": [
    {
     "data": {
      "text/html": [
       "<div>\n",
       "<style scoped>\n",
       "    .dataframe tbody tr th:only-of-type {\n",
       "        vertical-align: middle;\n",
       "    }\n",
       "\n",
       "    .dataframe tbody tr th {\n",
       "        vertical-align: top;\n",
       "    }\n",
       "\n",
       "    .dataframe thead th {\n",
       "        text-align: right;\n",
       "    }\n",
       "</style>\n",
       "<table border=\"1\" class=\"dataframe\">\n",
       "  <thead>\n",
       "    <tr style=\"text-align: right;\">\n",
       "      <th></th>\n",
       "      <th>commits</th>\n",
       "    </tr>\n",
       "    <tr>\n",
       "      <th>timestamp</th>\n",
       "      <th></th>\n",
       "    </tr>\n",
       "  </thead>\n",
       "  <tbody>\n",
       "    <tr>\n",
       "      <th>2005-01-01</th>\n",
       "      <td>16229</td>\n",
       "    </tr>\n",
       "    <tr>\n",
       "      <th>2006-01-01</th>\n",
       "      <td>29255</td>\n",
       "    </tr>\n",
       "    <tr>\n",
       "      <th>2007-01-01</th>\n",
       "      <td>33759</td>\n",
       "    </tr>\n",
       "    <tr>\n",
       "      <th>2008-01-01</th>\n",
       "      <td>48847</td>\n",
       "    </tr>\n",
       "    <tr>\n",
       "      <th>2009-01-01</th>\n",
       "      <td>52572</td>\n",
       "    </tr>\n",
       "  </tbody>\n",
       "</table>\n",
       "</div>"
      ],
      "text/plain": [
       "            commits\n",
       "timestamp          \n",
       "2005-01-01    16229\n",
       "2006-01-01    29255\n",
       "2007-01-01    33759\n",
       "2008-01-01    48847\n",
       "2009-01-01    52572"
      ]
     },
     "execution_count": 7,
     "metadata": {},
     "output_type": "execute_result"
    }
   ],
   "source": [
    "commits_per_year = corrected_log.groupby(\n",
    "    pd.Grouper(key='timestamp', freq='AS')).count()\n",
    "commits_per_year = commits_per_year.rename(columns={\"author\":\"commits\"})\n",
    "commits_per_year.head()"
   ]
  },
  {
   "cell_type": "markdown",
   "metadata": {
    "dc": {
     "key": "53"
    },
    "deletable": false,
    "editable": false,
    "run_control": {
     "frozen": true
    },
    "tags": [
     "context"
    ]
   },
   "source": [
    "## 8. Visualizing the history of Linux\n",
    "<p>Finally, we'll make a plot out of these counts to better see how the development effort on Linux has increased over the the last few years. </p>"
   ]
  },
  {
   "cell_type": "code",
   "execution_count": 8,
   "metadata": {},
   "outputs": [
    {
     "data": {
      "image/png": "[encoded data removed]",
      "text/plain": [
       "<Figure size 864x720 with 1 Axes>"
      ]
     },
     "metadata": {
      "needs_background": "light"
     },
     "output_type": "display_data"
    }
   ],
   "source": [
    "\n",
    "fig, ax = plt.subplots(figsize =(12, 10))\n",
    "ax.bar(['2005', '2006', '2007', '2008', '2009', '2010', '2011', '2012', '2013', '2014', '2015', '2016', '2017'],\n",
    "       commits_per_year['commits'],\n",
    "       color=['lightgreen', 'pink', 'lightblue', 'orange', 'cyan', 'yellow']\n",
    "      )\n",
    "\n",
    "ax.grid(b = True, color ='grey',\n",
    "        linestyle ='--', linewidth = 0.5,\n",
    "        alpha = 0.4)\n",
    "\n",
    "\n",
    "plt.title(\"Commits per year (Linux Kernel)\", size = 18, weight='bold')\n",
    "plt.ylabel(\"Commits\", size =12, fontweight='bold')\n",
    "plt.xlabel(\"Year\", size = 12, fontweight= 'bold')\n",
    "plt.show()"
   ]
  },
  {
   "cell_type": "markdown",
   "metadata": {},
   "source": [
    "Now let us see what year had the most Linux commits by looking at the table below and the graph above."
   ]
  },
  {
   "cell_type": "code",
   "execution_count": 9,
   "metadata": {
    "dc": {
     "key": "60"
    },
    "tags": [
     "sample_code"
    ]
   },
   "outputs": [
    {
     "data": {
      "text/html": [
       "<div>\n",
       "<style scoped>\n",
       "    .dataframe tbody tr th:only-of-type {\n",
       "        vertical-align: middle;\n",
       "    }\n",
       "\n",
       "    .dataframe tbody tr th {\n",
       "        vertical-align: top;\n",
       "    }\n",
       "\n",
       "    .dataframe thead th {\n",
       "        text-align: right;\n",
       "    }\n",
       "</style>\n",
       "<table border=\"1\" class=\"dataframe\">\n",
       "  <thead>\n",
       "    <tr style=\"text-align: right;\">\n",
       "      <th></th>\n",
       "      <th>commits</th>\n",
       "    </tr>\n",
       "    <tr>\n",
       "      <th>timestamp</th>\n",
       "      <th></th>\n",
       "    </tr>\n",
       "  </thead>\n",
       "  <tbody>\n",
       "    <tr>\n",
       "      <th>2016-12-31</th>\n",
       "      <td>76688</td>\n",
       "    </tr>\n",
       "  </tbody>\n",
       "</table>\n",
       "</div>"
      ],
      "text/plain": [
       "            commits\n",
       "timestamp          \n",
       "2016-12-31    76688"
      ]
     },
     "execution_count": 9,
     "metadata": {},
     "output_type": "execute_result"
    }
   ],
   "source": [
    "year_with_most_commits = commits_per_year.groupby(pd.Grouper(freq='A')).sum()\n",
    "year_with_most_commits[year_with_most_commits.commits == year_with_most_commits.commits.max()]"
   ]
  },
  {
   "cell_type": "code",
   "execution_count": 10,
   "metadata": {
    "dc": {
     "key": "60"
    }
   },
   "outputs": [
    {
     "data": {
      "text/plain": [
       "'The year with the most commits as we can observe by looking at the table above and the graph above is 2016'"
      ]
     },
     "execution_count": 10,
     "metadata": {},
     "output_type": "execute_result"
    }
   ],
   "source": [
    "year_with_most_commits = '2016'\n",
    "conclusion = \"The year with the most commits as we can observe by looking at the table above and the graph above is %s\"%(year_with_most_commits)\n",
    "conclusion"
   ]
  },
  {
   "cell_type": "markdown",
   "metadata": {
    "dc": {
     "key": "60"
    },
    "deletable": false,
    "editable": false,
    "run_control": {
     "frozen": true
    },
    "tags": [
     "context"
    ]
   },
   "source": [
    "## 9.  Conclusion\n",
    "<p>Thanks to the solid foundation and caretaking of Linux Torvalds, many other developers are now able to contribute to the Linux kernel as well. There is no decrease of development activity at sight!</p>"
   ]
  }
 ],
 "metadata": {
  "kernelspec": {
   "display_name": "Python 3",
   "language": "python",
   "name": "python3"
  },
  "language_info": {
   "codemirror_mode": {
    "name": "ipython",
    "version": 3
   },
   "file_extension": ".py",
   "mimetype": "text/x-python",
   "name": "python",
   "nbconvert_exporter": "python",
   "pygments_lexer": "ipython3",
   "version": "3.8.5"
  }
 },
 "nbformat": 4,
 "nbformat_minor": 2
}
